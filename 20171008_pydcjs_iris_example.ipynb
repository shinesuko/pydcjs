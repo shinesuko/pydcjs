{
 "cells": [
  {
   "cell_type": "code",
   "execution_count": 13,
   "metadata": {
    "collapsed": false,
    "slideshow": {
     "slide_type": "skip"
    }
   },
   "outputs": [
    {
     "data": {
      "text/html": [
       "<div>\n",
       "<table border=\"1\" class=\"dataframe\">\n",
       "  <thead>\n",
       "    <tr style=\"text-align: right;\">\n",
       "      <th></th>\n",
       "      <th>sepal_length</th>\n",
       "      <th>sepal_width</th>\n",
       "      <th>petal_length</th>\n",
       "      <th>petal_width</th>\n",
       "      <th>class</th>\n",
       "    </tr>\n",
       "  </thead>\n",
       "  <tbody>\n",
       "    <tr>\n",
       "      <th>0</th>\n",
       "      <td>5.1</td>\n",
       "      <td>3.5</td>\n",
       "      <td>1.4</td>\n",
       "      <td>0.2</td>\n",
       "      <td>Iris-setosa</td>\n",
       "    </tr>\n",
       "    <tr>\n",
       "      <th>1</th>\n",
       "      <td>4.9</td>\n",
       "      <td>3.0</td>\n",
       "      <td>1.4</td>\n",
       "      <td>0.2</td>\n",
       "      <td>Iris-setosa</td>\n",
       "    </tr>\n",
       "    <tr>\n",
       "      <th>2</th>\n",
       "      <td>4.7</td>\n",
       "      <td>3.2</td>\n",
       "      <td>1.3</td>\n",
       "      <td>0.2</td>\n",
       "      <td>Iris-setosa</td>\n",
       "    </tr>\n",
       "    <tr>\n",
       "      <th>3</th>\n",
       "      <td>4.6</td>\n",
       "      <td>3.1</td>\n",
       "      <td>1.5</td>\n",
       "      <td>0.2</td>\n",
       "      <td>Iris-setosa</td>\n",
       "    </tr>\n",
       "    <tr>\n",
       "      <th>4</th>\n",
       "      <td>5.0</td>\n",
       "      <td>3.6</td>\n",
       "      <td>1.4</td>\n",
       "      <td>0.2</td>\n",
       "      <td>Iris-setosa</td>\n",
       "    </tr>\n",
       "  </tbody>\n",
       "</table>\n",
       "</div>"
      ],
      "text/plain": [
       "   sepal_length  sepal_width  petal_length  petal_width        class\n",
       "0           5.1          3.5           1.4          0.2  Iris-setosa\n",
       "1           4.9          3.0           1.4          0.2  Iris-setosa\n",
       "2           4.7          3.2           1.3          0.2  Iris-setosa\n",
       "3           4.6          3.1           1.5          0.2  Iris-setosa\n",
       "4           5.0          3.6           1.4          0.2  Iris-setosa"
      ]
     },
     "execution_count": 13,
     "metadata": {},
     "output_type": "execute_result"
    }
   ],
   "source": [
    "import pandas as pd\n",
    "df=pd.read_csv(u'https://archive.ics.uci.edu/ml/machine-learning-databases/iris/iris.data',sep=','\\\n",
    "               ,names=['sepal_length','sepal_width','petal_length','petal_width','class'])\n",
    "df.head(5)"
   ]
  },
  {
   "cell_type": "code",
   "execution_count": 2,
   "metadata": {
    "collapsed": false,
    "slideshow": {
     "slide_type": "skip"
    }
   },
   "outputs": [
    {
     "data": {
      "application/javascript": [
       "require.config({\n",
       "    paths: {\n",
       "        'd3': 'https://cdnjs.cloudflare.com/ajax/libs/d3/3.5.16/d3.min',\n",
       "        'crossfilter': 'https://cdnjs.cloudflare.com/ajax/libs/crossfilter/1.3.12/crossfilter.min',\n",
       "        'dc': 'https://cdnjs.cloudflare.com/ajax/libs/dc/2.0.0-beta.32/dc',\n",
       "    },\n",
       "    shim: {\n",
       "        'crossfilter': {\n",
       "            deps: [],\n",
       "            exports: 'crossfilter'\n",
       "        }\n",
       "    }\n",
       "    });"
      ],
      "text/plain": [
       "<IPython.core.display.Javascript object>"
      ]
     },
     "metadata": {},
     "output_type": "display_data"
    },
    {
     "data": {
      "text/html": [
       "<link href=\"https://cdnjs.cloudflare.com/ajax/libs/dc/1.7.5/dc.min.css\" rel=\"stylesheet\" type=\"text/css\">"
      ],
      "text/plain": [
       "<IPython.core.display.HTML object>"
      ]
     },
     "metadata": {},
     "output_type": "display_data"
    },
    {
     "data": {
      "text/html": [
       "<link href=\"https://cdnjs.cloudflare.com/ajax/libs/semantic-ui/2.2.10/components/grid.min.css\" rel=\"stylesheet\" type=\"text/css\">"
      ],
      "text/plain": [
       "<IPython.core.display.HTML object>"
      ]
     },
     "metadata": {},
     "output_type": "display_data"
    },
    {
     "data": {
      "application/javascript": [
       "require(['d3', 'crossfilter', 'dc'], function(d3, crossfilter, dc) {\n",
       "\tif (typeof window.cf !== 'undefined') {\n",
       "\t} else {\n",
       "\twindow.cfdata=[{\"index\":0,\"sepal_length\":5.1,\"sepal_width\":3.5,\"petal_length\":1.4,\"petal_width\":0.2,\"class\":\"Iris-setosa\"},{\"index\":1,\"sepal_length\":4.9,\"sepal_width\":3.0,\"petal_length\":1.4,\"petal_width\":0.2,\"class\":\"Iris-setosa\"},{\"index\":2,\"sepal_length\":4.7,\"sepal_width\":3.2,\"petal_length\":1.3,\"petal_width\":0.2,\"class\":\"Iris-setosa\"},{\"index\":3,\"sepal_length\":4.6,\"sepal_width\":3.1,\"petal_length\":1.5,\"petal_width\":0.2,\"class\":\"Iris-setosa\"},{\"index\":4,\"sepal_length\":5.0,\"sepal_width\":3.6,\"petal_length\":1.4,\"petal_width\":0.2,\"class\":\"Iris-setosa\"},{\"index\":5,\"sepal_length\":5.4,\"sepal_width\":3.9,\"petal_length\":1.7,\"petal_width\":0.4,\"class\":\"Iris-setosa\"},{\"index\":6,\"sepal_length\":4.6,\"sepal_width\":3.4,\"petal_length\":1.4,\"petal_width\":0.3,\"class\":\"Iris-setosa\"},{\"index\":7,\"sepal_length\":5.0,\"sepal_width\":3.4,\"petal_length\":1.5,\"petal_width\":0.2,\"class\":\"Iris-setosa\"},{\"index\":8,\"sepal_length\":4.4,\"sepal_width\":2.9,\"petal_length\":1.4,\"petal_width\":0.2,\"class\":\"Iris-setosa\"},{\"index\":9,\"sepal_length\":4.9,\"sepal_width\":3.1,\"petal_length\":1.5,\"petal_width\":0.1,\"class\":\"Iris-setosa\"},{\"index\":10,\"sepal_length\":5.4,\"sepal_width\":3.7,\"petal_length\":1.5,\"petal_width\":0.2,\"class\":\"Iris-setosa\"},{\"index\":11,\"sepal_length\":4.8,\"sepal_width\":3.4,\"petal_length\":1.6,\"petal_width\":0.2,\"class\":\"Iris-setosa\"},{\"index\":12,\"sepal_length\":4.8,\"sepal_width\":3.0,\"petal_length\":1.4,\"petal_width\":0.1,\"class\":\"Iris-setosa\"},{\"index\":13,\"sepal_length\":4.3,\"sepal_width\":3.0,\"petal_length\":1.1,\"petal_width\":0.1,\"class\":\"Iris-setosa\"},{\"index\":14,\"sepal_length\":5.8,\"sepal_width\":4.0,\"petal_length\":1.2,\"petal_width\":0.2,\"class\":\"Iris-setosa\"},{\"index\":15,\"sepal_length\":5.7,\"sepal_width\":4.4,\"petal_length\":1.5,\"petal_width\":0.4,\"class\":\"Iris-setosa\"},{\"index\":16,\"sepal_length\":5.4,\"sepal_width\":3.9,\"petal_length\":1.3,\"petal_width\":0.4,\"class\":\"Iris-setosa\"},{\"index\":17,\"sepal_length\":5.1,\"sepal_width\":3.5,\"petal_length\":1.4,\"petal_width\":0.3,\"class\":\"Iris-setosa\"},{\"index\":18,\"sepal_length\":5.7,\"sepal_width\":3.8,\"petal_length\":1.7,\"petal_width\":0.3,\"class\":\"Iris-setosa\"},{\"index\":19,\"sepal_length\":5.1,\"sepal_width\":3.8,\"petal_length\":1.5,\"petal_width\":0.3,\"class\":\"Iris-setosa\"},{\"index\":20,\"sepal_length\":5.4,\"sepal_width\":3.4,\"petal_length\":1.7,\"petal_width\":0.2,\"class\":\"Iris-setosa\"},{\"index\":21,\"sepal_length\":5.1,\"sepal_width\":3.7,\"petal_length\":1.5,\"petal_width\":0.4,\"class\":\"Iris-setosa\"},{\"index\":22,\"sepal_length\":4.6,\"sepal_width\":3.6,\"petal_length\":1.0,\"petal_width\":0.2,\"class\":\"Iris-setosa\"},{\"index\":23,\"sepal_length\":5.1,\"sepal_width\":3.3,\"petal_length\":1.7,\"petal_width\":0.5,\"class\":\"Iris-setosa\"},{\"index\":24,\"sepal_length\":4.8,\"sepal_width\":3.4,\"petal_length\":1.9,\"petal_width\":0.2,\"class\":\"Iris-setosa\"},{\"index\":25,\"sepal_length\":5.0,\"sepal_width\":3.0,\"petal_length\":1.6,\"petal_width\":0.2,\"class\":\"Iris-setosa\"},{\"index\":26,\"sepal_length\":5.0,\"sepal_width\":3.4,\"petal_length\":1.6,\"petal_width\":0.4,\"class\":\"Iris-setosa\"},{\"index\":27,\"sepal_length\":5.2,\"sepal_width\":3.5,\"petal_length\":1.5,\"petal_width\":0.2,\"class\":\"Iris-setosa\"},{\"index\":28,\"sepal_length\":5.2,\"sepal_width\":3.4,\"petal_length\":1.4,\"petal_width\":0.2,\"class\":\"Iris-setosa\"},{\"index\":29,\"sepal_length\":4.7,\"sepal_width\":3.2,\"petal_length\":1.6,\"petal_width\":0.2,\"class\":\"Iris-setosa\"},{\"index\":30,\"sepal_length\":4.8,\"sepal_width\":3.1,\"petal_length\":1.6,\"petal_width\":0.2,\"class\":\"Iris-setosa\"},{\"index\":31,\"sepal_length\":5.4,\"sepal_width\":3.4,\"petal_length\":1.5,\"petal_width\":0.4,\"class\":\"Iris-setosa\"},{\"index\":32,\"sepal_length\":5.2,\"sepal_width\":4.1,\"petal_length\":1.5,\"petal_width\":0.1,\"class\":\"Iris-setosa\"},{\"index\":33,\"sepal_length\":5.5,\"sepal_width\":4.2,\"petal_length\":1.4,\"petal_width\":0.2,\"class\":\"Iris-setosa\"},{\"index\":34,\"sepal_length\":4.9,\"sepal_width\":3.1,\"petal_length\":1.5,\"petal_width\":0.1,\"class\":\"Iris-setosa\"},{\"index\":35,\"sepal_length\":5.0,\"sepal_width\":3.2,\"petal_length\":1.2,\"petal_width\":0.2,\"class\":\"Iris-setosa\"},{\"index\":36,\"sepal_length\":5.5,\"sepal_width\":3.5,\"petal_length\":1.3,\"petal_width\":0.2,\"class\":\"Iris-setosa\"},{\"index\":37,\"sepal_length\":4.9,\"sepal_width\":3.1,\"petal_length\":1.5,\"petal_width\":0.1,\"class\":\"Iris-setosa\"},{\"index\":38,\"sepal_length\":4.4,\"sepal_width\":3.0,\"petal_length\":1.3,\"petal_width\":0.2,\"class\":\"Iris-setosa\"},{\"index\":39,\"sepal_length\":5.1,\"sepal_width\":3.4,\"petal_length\":1.5,\"petal_width\":0.2,\"class\":\"Iris-setosa\"},{\"index\":40,\"sepal_length\":5.0,\"sepal_width\":3.5,\"petal_length\":1.3,\"petal_width\":0.3,\"class\":\"Iris-setosa\"},{\"index\":41,\"sepal_length\":4.5,\"sepal_width\":2.3,\"petal_length\":1.3,\"petal_width\":0.3,\"class\":\"Iris-setosa\"},{\"index\":42,\"sepal_length\":4.4,\"sepal_width\":3.2,\"petal_length\":1.3,\"petal_width\":0.2,\"class\":\"Iris-setosa\"},{\"index\":43,\"sepal_length\":5.0,\"sepal_width\":3.5,\"petal_length\":1.6,\"petal_width\":0.6,\"class\":\"Iris-setosa\"},{\"index\":44,\"sepal_length\":5.1,\"sepal_width\":3.8,\"petal_length\":1.9,\"petal_width\":0.4,\"class\":\"Iris-setosa\"},{\"index\":45,\"sepal_length\":4.8,\"sepal_width\":3.0,\"petal_length\":1.4,\"petal_width\":0.3,\"class\":\"Iris-setosa\"},{\"index\":46,\"sepal_length\":5.1,\"sepal_width\":3.8,\"petal_length\":1.6,\"petal_width\":0.2,\"class\":\"Iris-setosa\"},{\"index\":47,\"sepal_length\":4.6,\"sepal_width\":3.2,\"petal_length\":1.4,\"petal_width\":0.2,\"class\":\"Iris-setosa\"},{\"index\":48,\"sepal_length\":5.3,\"sepal_width\":3.7,\"petal_length\":1.5,\"petal_width\":0.2,\"class\":\"Iris-setosa\"},{\"index\":49,\"sepal_length\":5.0,\"sepal_width\":3.3,\"petal_length\":1.4,\"petal_width\":0.2,\"class\":\"Iris-setosa\"},{\"index\":50,\"sepal_length\":7.0,\"sepal_width\":3.2,\"petal_length\":4.7,\"petal_width\":1.4,\"class\":\"Iris-versicolor\"},{\"index\":51,\"sepal_length\":6.4,\"sepal_width\":3.2,\"petal_length\":4.5,\"petal_width\":1.5,\"class\":\"Iris-versicolor\"},{\"index\":52,\"sepal_length\":6.9,\"sepal_width\":3.1,\"petal_length\":4.9,\"petal_width\":1.5,\"class\":\"Iris-versicolor\"},{\"index\":53,\"sepal_length\":5.5,\"sepal_width\":2.3,\"petal_length\":4.0,\"petal_width\":1.3,\"class\":\"Iris-versicolor\"},{\"index\":54,\"sepal_length\":6.5,\"sepal_width\":2.8,\"petal_length\":4.6,\"petal_width\":1.5,\"class\":\"Iris-versicolor\"},{\"index\":55,\"sepal_length\":5.7,\"sepal_width\":2.8,\"petal_length\":4.5,\"petal_width\":1.3,\"class\":\"Iris-versicolor\"},{\"index\":56,\"sepal_length\":6.3,\"sepal_width\":3.3,\"petal_length\":4.7,\"petal_width\":1.6,\"class\":\"Iris-versicolor\"},{\"index\":57,\"sepal_length\":4.9,\"sepal_width\":2.4,\"petal_length\":3.3,\"petal_width\":1.0,\"class\":\"Iris-versicolor\"},{\"index\":58,\"sepal_length\":6.6,\"sepal_width\":2.9,\"petal_length\":4.6,\"petal_width\":1.3,\"class\":\"Iris-versicolor\"},{\"index\":59,\"sepal_length\":5.2,\"sepal_width\":2.7,\"petal_length\":3.9,\"petal_width\":1.4,\"class\":\"Iris-versicolor\"},{\"index\":60,\"sepal_length\":5.0,\"sepal_width\":2.0,\"petal_length\":3.5,\"petal_width\":1.0,\"class\":\"Iris-versicolor\"},{\"index\":61,\"sepal_length\":5.9,\"sepal_width\":3.0,\"petal_length\":4.2,\"petal_width\":1.5,\"class\":\"Iris-versicolor\"},{\"index\":62,\"sepal_length\":6.0,\"sepal_width\":2.2,\"petal_length\":4.0,\"petal_width\":1.0,\"class\":\"Iris-versicolor\"},{\"index\":63,\"sepal_length\":6.1,\"sepal_width\":2.9,\"petal_length\":4.7,\"petal_width\":1.4,\"class\":\"Iris-versicolor\"},{\"index\":64,\"sepal_length\":5.6,\"sepal_width\":2.9,\"petal_length\":3.6,\"petal_width\":1.3,\"class\":\"Iris-versicolor\"},{\"index\":65,\"sepal_length\":6.7,\"sepal_width\":3.1,\"petal_length\":4.4,\"petal_width\":1.4,\"class\":\"Iris-versicolor\"},{\"index\":66,\"sepal_length\":5.6,\"sepal_width\":3.0,\"petal_length\":4.5,\"petal_width\":1.5,\"class\":\"Iris-versicolor\"},{\"index\":67,\"sepal_length\":5.8,\"sepal_width\":2.7,\"petal_length\":4.1,\"petal_width\":1.0,\"class\":\"Iris-versicolor\"},{\"index\":68,\"sepal_length\":6.2,\"sepal_width\":2.2,\"petal_length\":4.5,\"petal_width\":1.5,\"class\":\"Iris-versicolor\"},{\"index\":69,\"sepal_length\":5.6,\"sepal_width\":2.5,\"petal_length\":3.9,\"petal_width\":1.1,\"class\":\"Iris-versicolor\"},{\"index\":70,\"sepal_length\":5.9,\"sepal_width\":3.2,\"petal_length\":4.8,\"petal_width\":1.8,\"class\":\"Iris-versicolor\"},{\"index\":71,\"sepal_length\":6.1,\"sepal_width\":2.8,\"petal_length\":4.0,\"petal_width\":1.3,\"class\":\"Iris-versicolor\"},{\"index\":72,\"sepal_length\":6.3,\"sepal_width\":2.5,\"petal_length\":4.9,\"petal_width\":1.5,\"class\":\"Iris-versicolor\"},{\"index\":73,\"sepal_length\":6.1,\"sepal_width\":2.8,\"petal_length\":4.7,\"petal_width\":1.2,\"class\":\"Iris-versicolor\"},{\"index\":74,\"sepal_length\":6.4,\"sepal_width\":2.9,\"petal_length\":4.3,\"petal_width\":1.3,\"class\":\"Iris-versicolor\"},{\"index\":75,\"sepal_length\":6.6,\"sepal_width\":3.0,\"petal_length\":4.4,\"petal_width\":1.4,\"class\":\"Iris-versicolor\"},{\"index\":76,\"sepal_length\":6.8,\"sepal_width\":2.8,\"petal_length\":4.8,\"petal_width\":1.4,\"class\":\"Iris-versicolor\"},{\"index\":77,\"sepal_length\":6.7,\"sepal_width\":3.0,\"petal_length\":5.0,\"petal_width\":1.7,\"class\":\"Iris-versicolor\"},{\"index\":78,\"sepal_length\":6.0,\"sepal_width\":2.9,\"petal_length\":4.5,\"petal_width\":1.5,\"class\":\"Iris-versicolor\"},{\"index\":79,\"sepal_length\":5.7,\"sepal_width\":2.6,\"petal_length\":3.5,\"petal_width\":1.0,\"class\":\"Iris-versicolor\"},{\"index\":80,\"sepal_length\":5.5,\"sepal_width\":2.4,\"petal_length\":3.8,\"petal_width\":1.1,\"class\":\"Iris-versicolor\"},{\"index\":81,\"sepal_length\":5.5,\"sepal_width\":2.4,\"petal_length\":3.7,\"petal_width\":1.0,\"class\":\"Iris-versicolor\"},{\"index\":82,\"sepal_length\":5.8,\"sepal_width\":2.7,\"petal_length\":3.9,\"petal_width\":1.2,\"class\":\"Iris-versicolor\"},{\"index\":83,\"sepal_length\":6.0,\"sepal_width\":2.7,\"petal_length\":5.1,\"petal_width\":1.6,\"class\":\"Iris-versicolor\"},{\"index\":84,\"sepal_length\":5.4,\"sepal_width\":3.0,\"petal_length\":4.5,\"petal_width\":1.5,\"class\":\"Iris-versicolor\"},{\"index\":85,\"sepal_length\":6.0,\"sepal_width\":3.4,\"petal_length\":4.5,\"petal_width\":1.6,\"class\":\"Iris-versicolor\"},{\"index\":86,\"sepal_length\":6.7,\"sepal_width\":3.1,\"petal_length\":4.7,\"petal_width\":1.5,\"class\":\"Iris-versicolor\"},{\"index\":87,\"sepal_length\":6.3,\"sepal_width\":2.3,\"petal_length\":4.4,\"petal_width\":1.3,\"class\":\"Iris-versicolor\"},{\"index\":88,\"sepal_length\":5.6,\"sepal_width\":3.0,\"petal_length\":4.1,\"petal_width\":1.3,\"class\":\"Iris-versicolor\"},{\"index\":89,\"sepal_length\":5.5,\"sepal_width\":2.5,\"petal_length\":4.0,\"petal_width\":1.3,\"class\":\"Iris-versicolor\"},{\"index\":90,\"sepal_length\":5.5,\"sepal_width\":2.6,\"petal_length\":4.4,\"petal_width\":1.2,\"class\":\"Iris-versicolor\"},{\"index\":91,\"sepal_length\":6.1,\"sepal_width\":3.0,\"petal_length\":4.6,\"petal_width\":1.4,\"class\":\"Iris-versicolor\"},{\"index\":92,\"sepal_length\":5.8,\"sepal_width\":2.6,\"petal_length\":4.0,\"petal_width\":1.2,\"class\":\"Iris-versicolor\"},{\"index\":93,\"sepal_length\":5.0,\"sepal_width\":2.3,\"petal_length\":3.3,\"petal_width\":1.0,\"class\":\"Iris-versicolor\"},{\"index\":94,\"sepal_length\":5.6,\"sepal_width\":2.7,\"petal_length\":4.2,\"petal_width\":1.3,\"class\":\"Iris-versicolor\"},{\"index\":95,\"sepal_length\":5.7,\"sepal_width\":3.0,\"petal_length\":4.2,\"petal_width\":1.2,\"class\":\"Iris-versicolor\"},{\"index\":96,\"sepal_length\":5.7,\"sepal_width\":2.9,\"petal_length\":4.2,\"petal_width\":1.3,\"class\":\"Iris-versicolor\"},{\"index\":97,\"sepal_length\":6.2,\"sepal_width\":2.9,\"petal_length\":4.3,\"petal_width\":1.3,\"class\":\"Iris-versicolor\"},{\"index\":98,\"sepal_length\":5.1,\"sepal_width\":2.5,\"petal_length\":3.0,\"petal_width\":1.1,\"class\":\"Iris-versicolor\"},{\"index\":99,\"sepal_length\":5.7,\"sepal_width\":2.8,\"petal_length\":4.1,\"petal_width\":1.3,\"class\":\"Iris-versicolor\"},{\"index\":100,\"sepal_length\":6.3,\"sepal_width\":3.3,\"petal_length\":6.0,\"petal_width\":2.5,\"class\":\"Iris-virginica\"},{\"index\":101,\"sepal_length\":5.8,\"sepal_width\":2.7,\"petal_length\":5.1,\"petal_width\":1.9,\"class\":\"Iris-virginica\"},{\"index\":102,\"sepal_length\":7.1,\"sepal_width\":3.0,\"petal_length\":5.9,\"petal_width\":2.1,\"class\":\"Iris-virginica\"},{\"index\":103,\"sepal_length\":6.3,\"sepal_width\":2.9,\"petal_length\":5.6,\"petal_width\":1.8,\"class\":\"Iris-virginica\"},{\"index\":104,\"sepal_length\":6.5,\"sepal_width\":3.0,\"petal_length\":5.8,\"petal_width\":2.2,\"class\":\"Iris-virginica\"},{\"index\":105,\"sepal_length\":7.6,\"sepal_width\":3.0,\"petal_length\":6.6,\"petal_width\":2.1,\"class\":\"Iris-virginica\"},{\"index\":106,\"sepal_length\":4.9,\"sepal_width\":2.5,\"petal_length\":4.5,\"petal_width\":1.7,\"class\":\"Iris-virginica\"},{\"index\":107,\"sepal_length\":7.3,\"sepal_width\":2.9,\"petal_length\":6.3,\"petal_width\":1.8,\"class\":\"Iris-virginica\"},{\"index\":108,\"sepal_length\":6.7,\"sepal_width\":2.5,\"petal_length\":5.8,\"petal_width\":1.8,\"class\":\"Iris-virginica\"},{\"index\":109,\"sepal_length\":7.2,\"sepal_width\":3.6,\"petal_length\":6.1,\"petal_width\":2.5,\"class\":\"Iris-virginica\"},{\"index\":110,\"sepal_length\":6.5,\"sepal_width\":3.2,\"petal_length\":5.1,\"petal_width\":2.0,\"class\":\"Iris-virginica\"},{\"index\":111,\"sepal_length\":6.4,\"sepal_width\":2.7,\"petal_length\":5.3,\"petal_width\":1.9,\"class\":\"Iris-virginica\"},{\"index\":112,\"sepal_length\":6.8,\"sepal_width\":3.0,\"petal_length\":5.5,\"petal_width\":2.1,\"class\":\"Iris-virginica\"},{\"index\":113,\"sepal_length\":5.7,\"sepal_width\":2.5,\"petal_length\":5.0,\"petal_width\":2.0,\"class\":\"Iris-virginica\"},{\"index\":114,\"sepal_length\":5.8,\"sepal_width\":2.8,\"petal_length\":5.1,\"petal_width\":2.4,\"class\":\"Iris-virginica\"},{\"index\":115,\"sepal_length\":6.4,\"sepal_width\":3.2,\"petal_length\":5.3,\"petal_width\":2.3,\"class\":\"Iris-virginica\"},{\"index\":116,\"sepal_length\":6.5,\"sepal_width\":3.0,\"petal_length\":5.5,\"petal_width\":1.8,\"class\":\"Iris-virginica\"},{\"index\":117,\"sepal_length\":7.7,\"sepal_width\":3.8,\"petal_length\":6.7,\"petal_width\":2.2,\"class\":\"Iris-virginica\"},{\"index\":118,\"sepal_length\":7.7,\"sepal_width\":2.6,\"petal_length\":6.9,\"petal_width\":2.3,\"class\":\"Iris-virginica\"},{\"index\":119,\"sepal_length\":6.0,\"sepal_width\":2.2,\"petal_length\":5.0,\"petal_width\":1.5,\"class\":\"Iris-virginica\"},{\"index\":120,\"sepal_length\":6.9,\"sepal_width\":3.2,\"petal_length\":5.7,\"petal_width\":2.3,\"class\":\"Iris-virginica\"},{\"index\":121,\"sepal_length\":5.6,\"sepal_width\":2.8,\"petal_length\":4.9,\"petal_width\":2.0,\"class\":\"Iris-virginica\"},{\"index\":122,\"sepal_length\":7.7,\"sepal_width\":2.8,\"petal_length\":6.7,\"petal_width\":2.0,\"class\":\"Iris-virginica\"},{\"index\":123,\"sepal_length\":6.3,\"sepal_width\":2.7,\"petal_length\":4.9,\"petal_width\":1.8,\"class\":\"Iris-virginica\"},{\"index\":124,\"sepal_length\":6.7,\"sepal_width\":3.3,\"petal_length\":5.7,\"petal_width\":2.1,\"class\":\"Iris-virginica\"},{\"index\":125,\"sepal_length\":7.2,\"sepal_width\":3.2,\"petal_length\":6.0,\"petal_width\":1.8,\"class\":\"Iris-virginica\"},{\"index\":126,\"sepal_length\":6.2,\"sepal_width\":2.8,\"petal_length\":4.8,\"petal_width\":1.8,\"class\":\"Iris-virginica\"},{\"index\":127,\"sepal_length\":6.1,\"sepal_width\":3.0,\"petal_length\":4.9,\"petal_width\":1.8,\"class\":\"Iris-virginica\"},{\"index\":128,\"sepal_length\":6.4,\"sepal_width\":2.8,\"petal_length\":5.6,\"petal_width\":2.1,\"class\":\"Iris-virginica\"},{\"index\":129,\"sepal_length\":7.2,\"sepal_width\":3.0,\"petal_length\":5.8,\"petal_width\":1.6,\"class\":\"Iris-virginica\"},{\"index\":130,\"sepal_length\":7.4,\"sepal_width\":2.8,\"petal_length\":6.1,\"petal_width\":1.9,\"class\":\"Iris-virginica\"},{\"index\":131,\"sepal_length\":7.9,\"sepal_width\":3.8,\"petal_length\":6.4,\"petal_width\":2.0,\"class\":\"Iris-virginica\"},{\"index\":132,\"sepal_length\":6.4,\"sepal_width\":2.8,\"petal_length\":5.6,\"petal_width\":2.2,\"class\":\"Iris-virginica\"},{\"index\":133,\"sepal_length\":6.3,\"sepal_width\":2.8,\"petal_length\":5.1,\"petal_width\":1.5,\"class\":\"Iris-virginica\"},{\"index\":134,\"sepal_length\":6.1,\"sepal_width\":2.6,\"petal_length\":5.6,\"petal_width\":1.4,\"class\":\"Iris-virginica\"},{\"index\":135,\"sepal_length\":7.7,\"sepal_width\":3.0,\"petal_length\":6.1,\"petal_width\":2.3,\"class\":\"Iris-virginica\"},{\"index\":136,\"sepal_length\":6.3,\"sepal_width\":3.4,\"petal_length\":5.6,\"petal_width\":2.4,\"class\":\"Iris-virginica\"},{\"index\":137,\"sepal_length\":6.4,\"sepal_width\":3.1,\"petal_length\":5.5,\"petal_width\":1.8,\"class\":\"Iris-virginica\"},{\"index\":138,\"sepal_length\":6.0,\"sepal_width\":3.0,\"petal_length\":4.8,\"petal_width\":1.8,\"class\":\"Iris-virginica\"},{\"index\":139,\"sepal_length\":6.9,\"sepal_width\":3.1,\"petal_length\":5.4,\"petal_width\":2.1,\"class\":\"Iris-virginica\"},{\"index\":140,\"sepal_length\":6.7,\"sepal_width\":3.1,\"petal_length\":5.6,\"petal_width\":2.4,\"class\":\"Iris-virginica\"},{\"index\":141,\"sepal_length\":6.9,\"sepal_width\":3.1,\"petal_length\":5.1,\"petal_width\":2.3,\"class\":\"Iris-virginica\"},{\"index\":142,\"sepal_length\":5.8,\"sepal_width\":2.7,\"petal_length\":5.1,\"petal_width\":1.9,\"class\":\"Iris-virginica\"},{\"index\":143,\"sepal_length\":6.8,\"sepal_width\":3.2,\"petal_length\":5.9,\"petal_width\":2.3,\"class\":\"Iris-virginica\"},{\"index\":144,\"sepal_length\":6.7,\"sepal_width\":3.3,\"petal_length\":5.7,\"petal_width\":2.5,\"class\":\"Iris-virginica\"},{\"index\":145,\"sepal_length\":6.7,\"sepal_width\":3.0,\"petal_length\":5.2,\"petal_width\":2.3,\"class\":\"Iris-virginica\"},{\"index\":146,\"sepal_length\":6.3,\"sepal_width\":2.5,\"petal_length\":5.0,\"petal_width\":1.9,\"class\":\"Iris-virginica\"},{\"index\":147,\"sepal_length\":6.5,\"sepal_width\":3.0,\"petal_length\":5.2,\"petal_width\":2.0,\"class\":\"Iris-virginica\"},{\"index\":148,\"sepal_length\":6.2,\"sepal_width\":3.4,\"petal_length\":5.4,\"petal_width\":2.3,\"class\":\"Iris-virginica\"},{\"index\":149,\"sepal_length\":5.9,\"sepal_width\":3.0,\"petal_length\":5.1,\"petal_width\":1.8,\"class\":\"Iris-virginica\"}]\n",
       "\twindow.cf = crossfilter(cfdata);\n",
       "\tconsole.log(cfdata)\n",
       "\t}\n",
       "\t})"
      ],
      "text/plain": [
       "<IPython.core.display.Javascript object>"
      ]
     },
     "metadata": {},
     "output_type": "display_data"
    },
    {
     "name": "stdout",
     "output_type": "stream",
     "text": [
      "Index([u'sepal_length', u'sepal_width', u'petal_length', u'petal_width',\n",
      "       u'class'],\n",
      "      dtype='object')\n"
     ]
    }
   ],
   "source": [
    "import sys; sys.path.append('C:/Users/14026/Documents/GitHub/pydcjs')\n",
    "import pydcjs as dcjs\n",
    "dcjs.load_js()\n",
    "%autoreload\n",
    "dcjs.set_df(df=df)"
   ]
  },
  {
   "cell_type": "code",
   "execution_count": 3,
   "metadata": {
    "collapsed": false,
    "scrolled": false,
    "slideshow": {
     "slide_type": "slide"
    }
   },
   "outputs": [
    {
     "data": {
      "text/html": [
       "<body><div id=\"chart_1\"></div><div id=\"chart_2\"></div><div id=\"chart_3\"></div><div id=\"chart_4\"></div></body>"
      ],
      "text/plain": [
       "<IPython.core.display.HTML object>"
      ]
     },
     "metadata": {},
     "output_type": "display_data"
    }
   ],
   "source": [
    "dcjs.figure(n=3)"
   ]
  },
  {
   "cell_type": "code",
   "execution_count": 11,
   "metadata": {
    "collapsed": false,
    "slideshow": {
     "slide_type": "skip"
    }
   },
   "outputs": [
    {
     "data": {
      "application/javascript": [
       "require(['d3', 'crossfilter', 'dc'], function(d3, crossfilter, dc) {\n",
       "\t//d3.select(\"#chart_1\")\n",
       "\t//\t.append(\"text\")\n",
       "\t//\t.text(\"pieChart: class\");\n",
       "\t\n",
       "\tvar dim = cf.dimension(function(d) {\n",
       "\treturn d.class;\n",
       "\t});\n",
       "\tvar gp = dim.group().reduceCount();\n",
       "\tvar chart_1_obj = dc.pieChart('#chart_1');\n",
       "\tchart_1_obj\n",
       "\t\t.width(300)\n",
       "\t\t.height(300)\n",
       "\t\t.dimension(dim)\n",
       "\t\t.group(gp)\n",
       "\t\t.radius(100)\n",
       "\t\t.cx(150)\n",
       "\t\t.cy(150)\n",
       "\t\t.innerRadius(10)\n",
       "\t\t.slicesCap(8)\n",
       "\t\t.transitionDuration(500)\n",
       "\t\t.ordering(function(t){\n",
       "\t\treturn -t.value;\n",
       "\t\t})\n",
       "\t\t.legend(dc.legend())\n",
       "\t\t.label(function(d) {\n",
       "\t\treturn d.key + ': ' + d.value;\n",
       "\t\t})\n",
       "\t\t.render();\n",
       "\td3.select(chart_1)\n",
       "\t\t.select(\"svg\").append(\"g\")\n",
       "\t\t.append(\"text\")\n",
       "\t\t.attr(\"class\", \"x-axis-label\")\n",
       "\t\t.attr(\"text-anchor\", \"middle\")\n",
       "\t\t.attr(\"x\", 300/2)\n",
       "\t\t.attr(\"y\", 300-2)\n",
       "\t\t.text(\"class count\");\n",
       "\t})"
      ],
      "text/plain": [
       "<IPython.core.display.Javascript object>"
      ]
     },
     "metadata": {},
     "output_type": "display_data"
    },
    {
     "data": {
      "application/javascript": [
       "require(['d3', 'crossfilter', 'dc'], function(d3, crossfilter, dc) {\n",
       "\t//d3.select(\"#chart_2\")\n",
       "\t//\t.append(\"text\")\n",
       "\t//\t.text(\"scatterPlott: sepal_length,sepal_width\");\n",
       "\tvar dim = cf.dimension(function(d) {\n",
       "\treturn [d.sepal_length, d.sepal_width];\n",
       "\t});\n",
       "\tvar gp = dim.group().reduceCount();\n",
       "\tvar chart_2_obj = dc.scatterPlot('#chart_2');\n",
       "\tchart_2_obj\n",
       "\t\t.width(300)\n",
       "\t\t.height(300)\n",
       "\t\t.dimension(dim)\n",
       "\t\t.group(gp)\n",
       "\t\t.transitionDuration(500)\n",
       "\t\t.x(d3.scale.linear().domain([4,8]))\n",
       "\t\t.y(d3.scale.linear().domain([1,6]))\n",
       "\t\t.renderHorizontalGridLines(true)\n",
       "\t\t.renderVerticalGridLines(true)\n",
       "\t\t.brushOn(true)\n",
       "\t\t.xAxisLabel(\"sepal_length\")\n",
       "\t\t.yAxisLabel(\"sepal_width\")\n",
       "\t\t.symbolSize(5)\n",
       "\t\t//.clipPadding(10)\n",
       "\t\t.render()\n",
       "\t\t.elasticY(false);\n",
       "\t\t//.elasticX({elasticX});\n",
       "\tdc.renderAll();\n",
       "\t})"
      ],
      "text/plain": [
       "<IPython.core.display.Javascript object>"
      ]
     },
     "metadata": {},
     "output_type": "display_data"
    },
    {
     "data": {
      "application/javascript": [
       "require(['d3', 'crossfilter', 'dc'], function(d3, crossfilter, dc) {\n",
       "\t//d3.select(\"#chart_3\")\n",
       "\t//\t.append(\"text\")\n",
       "\t//\t.text(\"scatterPlott: petal_length,petal_width\");\n",
       "\tvar dim = cf.dimension(function(d) {\n",
       "\treturn [d.petal_length, d.petal_width];\n",
       "\t});\n",
       "\tvar gp = dim.group().reduceCount();\n",
       "\tvar chart_3_obj = dc.scatterPlot('#chart_3');\n",
       "\tchart_3_obj\n",
       "\t\t.width(300)\n",
       "\t\t.height(300)\n",
       "\t\t.dimension(dim)\n",
       "\t\t.group(gp)\n",
       "\t\t.transitionDuration(500)\n",
       "\t\t.x(d3.scale.linear().domain([0,8]))\n",
       "\t\t.y(d3.scale.linear().domain([0,4]))\n",
       "\t\t.renderHorizontalGridLines(true)\n",
       "\t\t.renderVerticalGridLines(true)\n",
       "\t\t.brushOn(true)\n",
       "\t\t.xAxisLabel(\"petal_length\")\n",
       "\t\t.yAxisLabel(\"petal_width\")\n",
       "\t\t.symbolSize(5)\n",
       "\t\t//.clipPadding(10)\n",
       "\t\t.render()\n",
       "\t\t.elasticY(false);\n",
       "\t\t//.elasticX({elasticX});\n",
       "\tdc.renderAll();\n",
       "\t})"
      ],
      "text/plain": [
       "<IPython.core.display.Javascript object>"
      ]
     },
     "metadata": {},
     "output_type": "display_data"
    }
   ],
   "source": [
    "dcjs.pieChart(figure=1,width=300,height=300,dim='class',group='Count',cx=150,cy=150,innerRadius=10,slicesCap=8,transitionDuration=500,radius=100)\n",
    "dcjs.scatterPlot(figure=2,width=300,height=300,dim=['sepal_length','sepal_width'],group='Count',xlim=[4,8],ylim=[1,6],symbolSize=5,elasticY='false',transitionDuration=500,HorizontalGrid='true',VerticalGrid='true',xlabel='sepal_length',ylabel='sepal_width',yscale='linear')\n",
    "dcjs.scatterPlot(figure=3,width=300,height=300,dim=['petal_length','petal_width'],group='Count',xlim=[0,8],ylim=[0,4],symbolSize=5,elasticY='false',transitionDuration=500,HorizontalGrid='true',VerticalGrid='true',xlabel='petal_length',ylabel='petal_width',yscale='linear')"
   ]
  }
 ],
 "metadata": {
  "celltoolbar": "Slideshow",
  "kernelspec": {
   "display_name": "Python [conda env:py27]",
   "language": "python",
   "name": "conda-env-py27-py"
  },
  "language_info": {
   "codemirror_mode": {
    "name": "ipython",
    "version": 2
   },
   "file_extension": ".py",
   "mimetype": "text/x-python",
   "name": "python",
   "nbconvert_exporter": "python",
   "pygments_lexer": "ipython2",
   "version": "2.7.12"
  }
 },
 "nbformat": 4,
 "nbformat_minor": 1
}
